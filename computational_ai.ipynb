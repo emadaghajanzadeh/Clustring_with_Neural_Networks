{
  "nbformat": 4,
  "nbformat_minor": 0,
  "metadata": {
    "accelerator": "GPU",
    "colab": {
      "provenance": [],
      "collapsed_sections": [],
      "include_colab_link": true
    },
    "kernelspec": {
      "display_name": "Python 3",
      "name": "python3"
    },
    "language_info": {
      "name": "python"
    }
  },
  "cells": [
    {
      "cell_type": "markdown",
      "metadata": {
        "id": "view-in-github",
        "colab_type": "text"
      },
      "source": [
        "<a href=\"https://colab.research.google.com/github/emadaghajanzadeh/Clustring_with_Neural_Networks/blob/main/computational_ai.ipynb\" target=\"_parent\"><img src=\"https://colab.research.google.com/assets/colab-badge.svg\" alt=\"Open In Colab\"/></a>"
      ]
    },
    {
      "cell_type": "markdown",
      "source": [
        "#Kmeans"
      ],
      "metadata": {
        "id": "ZsDyXJ90xAX_"
      }
    },
    {
      "cell_type": "markdown",
      "source": [
        "##Import Libraries"
      ],
      "metadata": {
        "id": "DBfXUpiLrgPM"
      }
    },
    {
      "cell_type": "code",
      "metadata": {
        "colab": {
          "base_uri": "https://localhost:8080/"
        },
        "id": "HZlILGt5Y54z",
        "outputId": "34eab328-f361-4f3b-8bac-538a2dc54d0d"
      },
      "source": [
        "from keras.datasets import mnist\n",
        "import keras\n",
        "import numpy as np\n",
        "import matplotlib.pyplot as plt\n",
        "from tensorflow.keras.utils import to_categorical\n",
        "\n",
        "!pip install --upgrade scikit-learn"
      ],
      "execution_count": 1,
      "outputs": [
        {
          "output_type": "stream",
          "name": "stdout",
          "text": [
            "Looking in indexes: https://pypi.org/simple, https://us-python.pkg.dev/colab-wheels/public/simple/\n",
            "Requirement already satisfied: scikit-learn in /usr/local/lib/python3.7/dist-packages (1.0.2)\n",
            "Requirement already satisfied: numpy>=1.14.6 in /usr/local/lib/python3.7/dist-packages (from scikit-learn) (1.21.6)\n",
            "Requirement already satisfied: joblib>=0.11 in /usr/local/lib/python3.7/dist-packages (from scikit-learn) (1.1.0)\n",
            "Requirement already satisfied: threadpoolctl>=2.0.0 in /usr/local/lib/python3.7/dist-packages (from scikit-learn) (3.1.0)\n",
            "Requirement already satisfied: scipy>=1.1.0 in /usr/local/lib/python3.7/dist-packages (from scikit-learn) (1.7.3)\n"
          ]
        }
      ]
    },
    {
      "cell_type": "markdown",
      "source": [
        "##Data Loading"
      ],
      "metadata": {
        "id": "Pq7GjKVSrkrF"
      }
    },
    {
      "cell_type": "code",
      "metadata": {
        "colab": {
          "base_uri": "https://localhost:8080/"
        },
        "id": "WqtT5nyQZjQV",
        "outputId": "2ccf8980-f468-494d-b13e-7a476158b936"
      },
      "source": [
        "num_classes = 10\n",
        "input_shape = (28, 28, 1)\n",
        "\n",
        "# the data, split between train and test sets\n",
        "(x_train, y_train), (x_test, y_test) = keras.datasets.mnist.load_data()\n",
        "\n",
        "# Scale images to the [0, 1] range\n",
        "x_train = x_train.astype(\"float32\") / 255\n",
        "x_test = x_test.astype(\"float32\") / 255\n",
        "# Make sure images have shape (28, 28, 1)\n",
        "x_train = np.expand_dims(x_train, -1)\n",
        "x_test = np.expand_dims(x_test, -1)\n",
        "print(\"x_train shape:\", x_train.shape)\n",
        "print(x_train.shape[0], \"train samples\")\n",
        "print(x_test.shape[0], \"test samples\")\n",
        "\n",
        "\n",
        "# convert class vectors to binary class matrices\n",
        "y_train = to_categorical(y_train, num_classes)\n",
        "y_test = to_categorical(y_test, num_classes)"
      ],
      "execution_count": 2,
      "outputs": [
        {
          "output_type": "stream",
          "name": "stdout",
          "text": [
            "Downloading data from https://storage.googleapis.com/tensorflow/tf-keras-datasets/mnist.npz\n",
            "11493376/11490434 [==============================] - 0s 0us/step\n",
            "11501568/11490434 [==============================] - 0s 0us/step\n",
            "x_train shape: (60000, 28, 28, 1)\n",
            "60000 train samples\n",
            "10000 test samples\n"
          ]
        }
      ]
    },
    {
      "cell_type": "markdown",
      "source": [
        "##Kmeans Evaluation"
      ],
      "metadata": {
        "id": "2NwFDQCSro5A"
      }
    },
    {
      "cell_type": "code",
      "metadata": {
        "id": "9i-XdWFRZp9s"
      },
      "source": [
        "from sklearn.cluster import KMeans\n",
        "kmeans = KMeans(n_clusters=10,max_iter=30).fit(x_train.reshape(x_train.shape[0], input_shape[0]*input_shape[1]))"
      ],
      "execution_count": null,
      "outputs": []
    },
    {
      "cell_type": "code",
      "metadata": {
        "id": "ccDETXnGoFDm"
      },
      "source": [
        "y_pred = kmeans.predict(x_test.reshape(x_test.shape[0], input_shape[0]*input_shape[1]))"
      ],
      "execution_count": null,
      "outputs": []
    },
    {
      "cell_type": "code",
      "metadata": {
        "colab": {
          "base_uri": "https://localhost:8080/"
        },
        "id": "F1AO9NfVpFtO",
        "outputId": "1b25615c-a374-4a4a-8652-3bb08ec93bfc"
      },
      "source": [
        "from sklearn.metrics.cluster import rand_score\n",
        "from sklearn import metrics\n",
        "def purity_score(y_true, y_pred):\n",
        "    # compute contingency matrix (also called confusion matrix)\n",
        "    contingency_matrix = metrics.cluster.contingency_matrix(y_true, y_pred)\n",
        "    # return purity\n",
        "    return np.sum(np.amax(contingency_matrix, axis=0)) / np.sum(contingency_matrix) \n",
        "print(rand_score(np.argmax(y_test, axis = -1 ), y_pred))\n",
        "print(purity_score(np.argmax(y_test, axis = -1 ), y_pred))"
      ],
      "execution_count": null,
      "outputs": [
        {
          "output_type": "stream",
          "text": [
            "0.8801961796179618\n",
            "0.5944\n"
          ],
          "name": "stdout"
        }
      ]
    },
    {
      "cell_type": "code",
      "metadata": {
        "colab": {
          "base_uri": "https://localhost:8080/"
        },
        "id": "ef7ui1WKpSbr",
        "outputId": "a437a027-19e2-4092-b090-9e7a4f8523c3"
      },
      "source": [
        "from sklearn.metrics.cluster import rand_score\n",
        "from sklearn import metrics\n",
        "def purity_score(y_true, y_pred):\n",
        "    # compute contingency matrix (also called confusion matrix)\n",
        "    contingency_matrix = metrics.cluster.contingency_matrix(y_true, y_pred)\n",
        "    # return purity\n",
        "    return np.sum(np.amax(contingency_matrix, axis=0)) / np.sum(contingency_matrix) \n",
        "\n",
        "max_iteration = [10,30,50,70,90,110]\n",
        "num_clusters = [2,5,8,10,15,20]\n",
        "result1 = []\n",
        "result2 = []\n",
        "# for iter in max_iteration:\n",
        "#   print(iter)\n",
        "#   kmeans = KMeans(n_clusters=10,max_iter=iter).fit(x_train.reshape(x_train.shape[0], input_shape[0]*input_shape[1]))\n",
        "#   y_pred = kmeans.predict(x_test.reshape(x_test.shape[0], input_shape[0]*input_shape[1]))\n",
        "#   result1.append(rand_score(np.argmax(y_test, axis = -1 ), y_pred))\n",
        "#   result2.append(purity_score(np.argmax(y_test, axis = -1 ), y_pred))\n",
        "for cluster in num_clusters:\n",
        "  print(cluster)\n",
        "  kmeans = KMeans(n_clusters=cluster,max_iter=30).fit(x_train.reshape(x_train.shape[0], input_shape[0]*input_shape[1]))\n",
        "  y_pred = kmeans.predict(x_test.reshape(x_test.shape[0], input_shape[0]*input_shape[1]))\n",
        "  result1.append(rand_score(np.argmax(y_test, axis = -1 ), y_pred))\n",
        "  result2.append(purity_score(np.argmax(y_test, axis = -1 ), y_pred))\n"
      ],
      "execution_count": null,
      "outputs": [
        {
          "output_type": "stream",
          "text": [
            "2\n",
            "5\n",
            "8\n",
            "10\n",
            "15\n",
            "20\n"
          ],
          "name": "stdout"
        }
      ]
    },
    {
      "cell_type": "code",
      "metadata": {
        "colab": {
          "base_uri": "https://localhost:8080/",
          "height": 404
        },
        "id": "KjMmTH_REZV2",
        "outputId": "977c6f67-fbb8-4fc2-a786-a97d0a5016ac"
      },
      "source": [
        "plt.figure(figsize=(10,6))\n",
        "plt.plot(num_clusters, result1)\n",
        "plt.xlabel(\"Cluster Number\")\n",
        "plt.ylabel(\"Rand Score\")\n",
        "plt.xticks(num_clusters)\n",
        "plt.title(\"Effect of Cluster Number Max on Rand Score\")\n",
        "plt.savefig(\"./rand_score\", dpi = 300)"
      ],
      "execution_count": null,
      "outputs": [
        {
          "output_type": "display_data",
          "data": {
            "image/png": "[encoded data removed]",
            "text/plain": [
              "<Figure size 720x432 with 1 Axes>"
            ]
          },
          "metadata": {
            "tags": []
          }
        }
      ]
    },
    {
      "cell_type": "code",
      "metadata": {
        "colab": {
          "base_uri": "https://localhost:8080/",
          "height": 404
        },
        "id": "df2ivcraGyh5",
        "outputId": "b2a719ad-588e-4c90-e4e9-0b5cb1c9c138"
      },
      "source": [
        "plt.figure(figsize=(10,6))\n",
        "plt.plot(num_clusters, result2)\n",
        "plt.xlabel(\"Cluster Number\")\n",
        "plt.ylabel(\"Purity Score\")\n",
        "plt.xticks(num_clusters)\n",
        "plt.title(\"Effect of Increasing Cluster Number on Purity Score\")\n",
        "plt.savefig(\"./purity_score\", dpi = 300)"
      ],
      "execution_count": null,
      "outputs": [
        {
          "output_type": "display_data",
          "data": {
            "image/png": "[encoded data removed]",
            "text/plain": [
              "<Figure size 720x432 with 1 Axes>"
            ]
          },
          "metadata": {
            "tags": []
          }
        }
      ]
    },
    {
      "cell_type": "markdown",
      "source": [
        "#Multi-Layer Perceptron (MLP)"
      ],
      "metadata": {
        "id": "UYUPDSzUr6dm"
      }
    },
    {
      "cell_type": "markdown",
      "metadata": {
        "id": "MIkaxkSANyrJ"
      },
      "source": [
        "##Data Loading"
      ]
    },
    {
      "cell_type": "code",
      "metadata": {
        "colab": {
          "base_uri": "https://localhost:8080/"
        },
        "id": "i9_p6DtJG2L8",
        "outputId": "00991cdf-cd29-43ce-a226-e522c24810b6"
      },
      "source": [
        "import tensorflow as tf\n",
        "from tensorflow.keras.datasets import mnist\n",
        "from tensorflow.keras.models import Sequential\n",
        "from tensorflow.keras.layers import Dense\n",
        "from tensorflow.keras.utils import to_categorical\n",
        "import numpy as np\n",
        "from keras.datasets import mnist\n",
        "import keras\n",
        "import numpy as np\n",
        "import numpy as np\n",
        "from tensorflow import keras\n",
        "from tensorflow.keras import layers\n",
        "\n",
        "import matplotlib.pyplot as plt\n",
        "# !pip install --upgrade scikit-learn\n",
        "# Configuration options\n",
        "feature_vector_length = 784\n",
        "num_classes = 10\n",
        "\n",
        "# Load the data\n",
        "(X_train, Y_train), (X_test, Y_test) = mnist.load_data()\n",
        "\n",
        "# Reshape the data - MLPs do not understand such things as '2D'.\n",
        "# Reshape to 28 x 28 pixels = 784 features\n",
        "X_train = X_train.reshape(X_train.shape[0], feature_vector_length)\n",
        "X_test = X_test.reshape(X_test.shape[0], feature_vector_length)\n",
        "\n",
        "# Convert into greyscale\n",
        "X_train = X_train.astype('float32')\n",
        "X_test = X_test.astype('float32')\n",
        "X_train /= 255\n",
        "X_test /= 255\n",
        "\n",
        "# Convert target classes to categorical ones\n",
        "Y_train = to_categorical(Y_train, num_classes)\n",
        "Y_test = to_categorical(Y_test, num_classes)\n",
        "\n",
        "# Set the input shape\n",
        "input_shape = (feature_vector_length,)\n",
        "print(f'Feature shape: {input_shape}')"
      ],
      "execution_count": 1,
      "outputs": [
        {
          "output_type": "stream",
          "name": "stdout",
          "text": [
            "Feature shape: (784,)\n"
          ]
        }
      ]
    },
    {
      "cell_type": "markdown",
      "metadata": {
        "id": "tT4WX-M5TrXT"
      },
      "source": [
        "##Model Construction"
      ]
    },
    {
      "cell_type": "code",
      "metadata": {
        "colab": {
          "base_uri": "https://localhost:8080/"
        },
        "id": "bYkk9feLIG-x",
        "outputId": "aa5a2994-6a42-43d2-cbc8-b254c508e149"
      },
      "source": [
        "import keras.backend as K\n",
        "\n",
        "#MLP\n",
        "# model = Sequential()\n",
        "# model.add(Dense(32, input_shape=input_shape, activation='relu'))\n",
        "# model.add(Dense(16,  activation='relu'))\n",
        "# model.add(Dense(10, activation = \"softmax\"))\n",
        "# model.summary()\n",
        "\n",
        "#CNN\n",
        "model = keras.Sequential(\n",
        "    [\n",
        "        keras.Input(shape=(28, 28, 1)),\n",
        "        layers.Conv2D(32, kernel_size=(3, 3), activation=\"relu\"),\n",
        "        layers.MaxPooling2D(pool_size=(2, 2)),\n",
        "        layers.Conv2D(64, kernel_size=(3, 3), activation=\"relu\"),\n",
        "        layers.MaxPooling2D(pool_size=(2, 2)),\n",
        "        layers.Flatten(),\n",
        "        layers.Dropout(0.5),\n",
        "        layers.Dense(num_classes, activation=\"softmax\"),\n",
        "    ]\n",
        ")\n",
        "model.summary()\n"
      ],
      "execution_count": 2,
      "outputs": [
        {
          "output_type": "stream",
          "name": "stdout",
          "text": [
            "Model: \"sequential\"\n",
            "_________________________________________________________________\n",
            " Layer (type)                Output Shape              Param #   \n",
            "=================================================================\n",
            " conv2d (Conv2D)             (None, 26, 26, 32)        320       \n",
            "                                                                 \n",
            " max_pooling2d (MaxPooling2D  (None, 13, 13, 32)       0         \n",
            " )                                                               \n",
            "                                                                 \n",
            " conv2d_1 (Conv2D)           (None, 11, 11, 64)        18496     \n",
            "                                                                 \n",
            " max_pooling2d_1 (MaxPooling  (None, 5, 5, 64)         0         \n",
            " 2D)                                                             \n",
            "                                                                 \n",
            " flatten (Flatten)           (None, 1600)              0         \n",
            "                                                                 \n",
            " dropout (Dropout)           (None, 1600)              0         \n",
            "                                                                 \n",
            " dense (Dense)               (None, 10)                16010     \n",
            "                                                                 \n",
            "=================================================================\n",
            "Total params: 34,826\n",
            "Trainable params: 34,826\n",
            "Non-trainable params: 0\n",
            "_________________________________________________________________\n"
          ]
        }
      ]
    },
    {
      "cell_type": "markdown",
      "source": [
        "##Training Algorithm"
      ],
      "metadata": {
        "id": "okSGfupcwL-s"
      }
    },
    {
      "cell_type": "code",
      "metadata": {
        "colab": {
          "base_uri": "https://localhost:8080/"
        },
        "id": "luZKeIS848TA",
        "outputId": "7e5489da-3346-4a5f-84e7-9d1fec9b6bbe"
      },
      "source": [
        "random_indexes = np.ceil(X_train.shape[0]*np.random.random(10)).astype(int)\n",
        "centersX = X_train[random_indexes]\n",
        "centersY = np.arange(0,10)\n",
        "centersY"
      ],
      "execution_count": 3,
      "outputs": [
        {
          "output_type": "execute_result",
          "data": {
            "text/plain": [
              "array([0, 1, 2, 3, 4, 5, 6, 7, 8, 9])"
            ]
          },
          "metadata": {},
          "execution_count": 3
        }
      ]
    },
    {
      "cell_type": "code",
      "metadata": {
        "colab": {
          "base_uri": "https://localhost:8080/"
        },
        "id": "4sUbZPMl9JLB",
        "outputId": "7afdb570-c320-479e-b728-2576b846dd99"
      },
      "source": [
        "from tensorflow.keras.utils import to_categorical\n",
        "def loss_fn(yPred, yTrue):\n",
        "      return keras.losses.categorical_crossentropy(to_categorical(yTrue), yPred)\n",
        "optimizer = keras.optimizers.Adam()\n",
        "epochs = 5\n",
        "# centersY = to_categorical(centersY, num_classes=10)\n",
        "for epoch in range(epochs):\n",
        "    print(\"\\n Epoch %d\" % (epoch+1,))\n",
        "\n",
        "    # Iterate over the batches of the dataset.\n",
        "    for step, x_batch_train in enumerate(centersX):\n",
        "        x_batch_train = centersX\n",
        "        # Open a GradientTape to record the operations run\n",
        "        # during the forward pass, which enables auto-differentiation.\n",
        "        with tf.GradientTape() as tape:\n",
        "\n",
        "            # Run the forward pass of the layer.\n",
        "            # The operations that the layer applies\n",
        "            # to its inputs are going to be recorded\n",
        "            # on the GradientTape.\n",
        "            \n",
        "            logits = model(x_batch_train.reshape(-1,28,28,1))  # Logits for this minibatch\n",
        "            # Compute the loss value for this minibatch.\n",
        "\n",
        "            loss_value = loss_fn(logits, centersY)\n",
        "\n",
        "        # Use the gradient tape to automatically retrieve\n",
        "        # the gradients of the trainable variables with respect to the loss.\n",
        "        grads = tape.gradient(loss_value, model.trainable_weights)\n",
        "\n",
        "        # Run one step of gradient descent by updating\n",
        "        # the value of the variables to minimize the loss.\n",
        "        optimizer.apply_gradients(zip(grads, model.trainable_weights))\n",
        "        \n",
        "        prediction = np.argmax(model(X_train.reshape(-1,28,28,1)), axis=-1)\n",
        "        indexes = {}\n",
        "        # means = {}\n",
        "    for i in range(10):\n",
        "          indexes[i] = np.where(prediction == i)[0]\n",
        "          samples = X_train[indexes[i]]\n",
        "          centersX[i] = np.mean(samples, axis=0)\n",
        "          centersY[i] = i\n",
        "\n"
      ],
      "execution_count": 4,
      "outputs": [
        {
          "output_type": "stream",
          "name": "stdout",
          "text": [
            "\n",
            " Epoch 1\n",
            "\n",
            " Epoch 2\n",
            "\n",
            " Epoch 3\n",
            "\n",
            " Epoch 4\n",
            "\n",
            " Epoch 5\n"
          ]
        }
      ]
    },
    {
      "cell_type": "markdown",
      "metadata": {
        "id": "VHcUOu24N-wu"
      },
      "source": [
        "##Model Evaluation"
      ]
    },
    {
      "cell_type": "code",
      "metadata": {
        "colab": {
          "base_uri": "https://localhost:8080/"
        },
        "id": "t1lhqZGmltJE",
        "outputId": "a5967e63-9bb7-4953-9117-3f87bc214256"
      },
      "source": [
        "y_pred = model.predict(X_test.reshape(-1,28,28,1))\n",
        "# print(y_pred[0])\n",
        "# print(y_pred[1])\n",
        "from sklearn.metrics.cluster import rand_score\n",
        "from sklearn import metrics\n",
        "def purity_score(y_true, y_pred):\n",
        "    # compute contingency matrix (also called confusion matrix)\n",
        "    contingency_matrix = metrics.cluster.contingency_matrix(y_true, y_pred)\n",
        "    # return purity\n",
        "    return np.sum(np.amax(contingency_matrix, axis=0)) / np.sum(contingency_matrix) \n",
        "print(rand_score(np.argmax(Y_test, axis = -1 ), np.argmax((y_pred), axis = -1)))\n",
        "print(purity_score(np.argmax(Y_test, axis = -1 ), np.argmax((y_pred), axis = -1)))"
      ],
      "execution_count": 5,
      "outputs": [
        {
          "output_type": "stream",
          "name": "stdout",
          "text": [
            "0.8484663266326633\n",
            "0.4522\n"
          ]
        }
      ]
    }
  ]
}